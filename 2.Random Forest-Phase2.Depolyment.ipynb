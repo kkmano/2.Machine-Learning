{
 "cells": [
  {
   "cell_type": "code",
   "execution_count": 1,
   "id": "7720103b-4438-4133-8fc2-c17b7d0d240c",
   "metadata": {},
   "outputs": [],
   "source": [
    "import pickle"
   ]
  },
  {
   "cell_type": "code",
   "execution_count": 4,
   "id": "04ca02b4-55bf-4341-88fb-0bdb98b96edc",
   "metadata": {},
   "outputs": [],
   "source": [
    "loaded_model=pickle.load(open('Finalizad_Random_forest_model.sav','rb'))"
   ]
  },
  {
   "cell_type": "code",
   "execution_count": 6,
   "id": "7acd01db-ce80-4edd-a92f-aba8a8acb4f9",
   "metadata": {},
   "outputs": [
    {
     "name": "stderr",
     "output_type": "stream",
     "text": [
      "C:\\Anaconda3\\Lib\\site-packages\\sklearn\\base.py:493: UserWarning: X does not have valid feature names, but RandomForestRegressor was fitted with feature names\n",
      "  warnings.warn(\n"
     ]
    }
   ],
   "source": [
    "result=loaded_model.predict([[23,435,980,0,1]])"
   ]
  },
  {
   "cell_type": "code",
   "execution_count": null,
   "id": "e0645283-38b9-4df3-8505-0d0a02e026d5",
   "metadata": {},
   "outputs": [],
   "source": []
  }
 ],
 "metadata": {
  "kernelspec": {
   "display_name": "Python 3 (ipykernel)",
   "language": "python",
   "name": "python3"
  },
  "language_info": {
   "codemirror_mode": {
    "name": "ipython",
    "version": 3
   },
   "file_extension": ".py",
   "mimetype": "text/x-python",
   "name": "python",
   "nbconvert_exporter": "python",
   "pygments_lexer": "ipython3",
   "version": "3.12.4"
  }
 },
 "nbformat": 4,
 "nbformat_minor": 5
}
